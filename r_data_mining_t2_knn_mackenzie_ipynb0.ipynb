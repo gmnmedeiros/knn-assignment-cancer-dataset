{
  "nbformat": 4,
  "nbformat_minor": 0,
  "metadata": {
    "colab": {
      "name": "r-data-mining-t2-knn-mackenzie.ipynb0.ipynb",
      "provenance": []
    },
    "kernelspec": {
      "name": "ir",
      "display_name": "R"
    },
    "language_info": {
      "name": "R"
    }
  },
  "cells": [
    {
      "cell_type": "code",
      "metadata": {
        "colab": {
          "base_uri": "https://localhost:8080/",
          "height": 682
        },
        "id": "bjPrhhDyB04F",
        "outputId": "930c1f64-9230-4fe2-c7a4-e68981368f21"
      },
      "source": [
        "# Exploração de sumário inicial\n",
        "library(MASS)\n",
        "summary(biopsy)\n",
        "summary(biopsy$class)\n",
        "nrow(biopsy)\n",
        "ncol(biopsy)\n",
        "str(biopsy)"
      ],
      "execution_count": null,
      "outputs": [
        {
          "output_type": "display_data",
          "data": {
            "text/plain": [
              "      ID                  V1               V2               V3        \n",
              " Length:699         Min.   : 1.000   Min.   : 1.000   Min.   : 1.000  \n",
              " Class :character   1st Qu.: 2.000   1st Qu.: 1.000   1st Qu.: 1.000  \n",
              " Mode  :character   Median : 4.000   Median : 1.000   Median : 1.000  \n",
              "                    Mean   : 4.418   Mean   : 3.134   Mean   : 3.207  \n",
              "                    3rd Qu.: 6.000   3rd Qu.: 5.000   3rd Qu.: 5.000  \n",
              "                    Max.   :10.000   Max.   :10.000   Max.   :10.000  \n",
              "                                                                      \n",
              "       V4               V5               V6               V7        \n",
              " Min.   : 1.000   Min.   : 1.000   Min.   : 1.000   Min.   : 1.000  \n",
              " 1st Qu.: 1.000   1st Qu.: 2.000   1st Qu.: 1.000   1st Qu.: 2.000  \n",
              " Median : 1.000   Median : 2.000   Median : 1.000   Median : 3.000  \n",
              " Mean   : 2.807   Mean   : 3.216   Mean   : 3.545   Mean   : 3.438  \n",
              " 3rd Qu.: 4.000   3rd Qu.: 4.000   3rd Qu.: 6.000   3rd Qu.: 5.000  \n",
              " Max.   :10.000   Max.   :10.000   Max.   :10.000   Max.   :10.000  \n",
              "                                   NA's   :16                       \n",
              "       V8               V9               class    \n",
              " Min.   : 1.000   Min.   : 1.000   benign   :458  \n",
              " 1st Qu.: 1.000   1st Qu.: 1.000   malignant:241  \n",
              " Median : 1.000   Median : 1.000                  \n",
              " Mean   : 2.867   Mean   : 1.589                  \n",
              " 3rd Qu.: 4.000   3rd Qu.: 1.000                  \n",
              " Max.   :10.000   Max.   :10.000                  \n",
              "                                                  "
            ]
          },
          "metadata": {
            "tags": []
          }
        },
        {
          "output_type": "display_data",
          "data": {
            "text/plain": [
              "   benign malignant \n",
              "      458       241 "
            ],
            "text/latex": "\\begin{description*}\n\\item[benign] 458\n\\item[malignant] 241\n\\end{description*}\n",
            "text/markdown": "benign\n:   458malignant\n:   241\n\n",
            "text/html": [
              "<style>\n",
              ".dl-inline {width: auto; margin:0; padding: 0}\n",
              ".dl-inline>dt, .dl-inline>dd {float: none; width: auto; display: inline-block}\n",
              ".dl-inline>dt::after {content: \":\\0020\"; padding-right: .5ex}\n",
              ".dl-inline>dt:not(:first-of-type) {padding-left: .5ex}\n",
              "</style><dl class=dl-inline><dt>benign</dt><dd>458</dd><dt>malignant</dt><dd>241</dd></dl>\n"
            ]
          },
          "metadata": {
            "tags": []
          }
        },
        {
          "output_type": "display_data",
          "data": {
            "text/plain": [
              "[1] 699"
            ],
            "text/latex": "699",
            "text/markdown": "699",
            "text/html": [
              "699"
            ]
          },
          "metadata": {
            "tags": []
          }
        },
        {
          "output_type": "display_data",
          "data": {
            "text/plain": [
              "[1] 11"
            ],
            "text/latex": "11",
            "text/markdown": "11",
            "text/html": [
              "11"
            ]
          },
          "metadata": {
            "tags": []
          }
        },
        {
          "output_type": "stream",
          "text": [
            "'data.frame':\t699 obs. of  11 variables:\n",
            " $ ID   : chr  \"1000025\" \"1002945\" \"1015425\" \"1016277\" ...\n",
            " $ V1   : int  5 5 3 6 4 8 1 2 2 4 ...\n",
            " $ V2   : int  1 4 1 8 1 10 1 1 1 2 ...\n",
            " $ V3   : int  1 4 1 8 1 10 1 2 1 1 ...\n",
            " $ V4   : int  1 5 1 1 3 8 1 1 1 1 ...\n",
            " $ V5   : int  2 7 2 3 2 7 2 2 2 2 ...\n",
            " $ V6   : int  1 10 2 4 1 10 10 1 1 1 ...\n",
            " $ V7   : int  3 3 3 3 3 9 3 3 1 2 ...\n",
            " $ V8   : int  1 2 1 7 1 7 1 1 1 1 ...\n",
            " $ V9   : int  1 1 1 1 1 1 1 1 5 1 ...\n",
            " $ class: Factor w/ 2 levels \"benign\",\"malignant\": 1 1 1 1 1 2 1 1 1 1 ...\n"
          ],
          "name": "stdout"
        }
      ]
    },
    {
      "cell_type": "code",
      "metadata": {
        "colab": {
          "base_uri": "https://localhost:8080/",
          "height": 87
        },
        "id": "QnXJuZxtB28W",
        "outputId": "419b30b9-b5fc-41fb-e5a0-fe3d3ecd8600"
      },
      "source": [
        "# Identificando NAs\n",
        "\n",
        "sum(is.na(biopsy))\n",
        "any(is.na(biopsy$V6))\n",
        "sum(is.na(biopsy$V6))"
      ],
      "execution_count": null,
      "outputs": [
        {
          "output_type": "display_data",
          "data": {
            "text/plain": [
              "[1] 16"
            ],
            "text/latex": "16",
            "text/markdown": "16",
            "text/html": [
              "16"
            ]
          },
          "metadata": {
            "tags": []
          }
        },
        {
          "output_type": "display_data",
          "data": {
            "text/plain": [
              "[1] TRUE"
            ],
            "text/latex": "TRUE",
            "text/markdown": "TRUE",
            "text/html": [
              "TRUE"
            ]
          },
          "metadata": {
            "tags": []
          }
        },
        {
          "output_type": "display_data",
          "data": {
            "text/plain": [
              "[1] 16"
            ],
            "text/latex": "16",
            "text/markdown": "16",
            "text/html": [
              "16"
            ]
          },
          "metadata": {
            "tags": []
          }
        }
      ]
    },
    {
      "cell_type": "code",
      "metadata": {
        "colab": {
          "base_uri": "https://localhost:8080/",
          "height": 401
        },
        "id": "-G6oxmvoB554",
        "outputId": "5732a797-3814-4b60-bd24-c54db4cdc346"
      },
      "source": [
        "# Limpando o dataframe\n",
        "\n",
        "df_clean <- na.omit(biopsy)\n",
        "nrow(df_clean)\n",
        "\n",
        "df_clean$ID <- NULL #drop a coluna ID pois é identificadora\n",
        "\n",
        "\n",
        "summary(df_clean)"
      ],
      "execution_count": null,
      "outputs": [
        {
          "output_type": "display_data",
          "data": {
            "text/plain": [
              "[1] 683"
            ],
            "text/latex": "683",
            "text/markdown": "683",
            "text/html": [
              "683"
            ]
          },
          "metadata": {
            "tags": []
          }
        },
        {
          "output_type": "display_data",
          "data": {
            "text/plain": [
              "       V1               V2               V3               V4       \n",
              " Min.   : 1.000   Min.   : 1.000   Min.   : 1.000   Min.   : 1.00  \n",
              " 1st Qu.: 2.000   1st Qu.: 1.000   1st Qu.: 1.000   1st Qu.: 1.00  \n",
              " Median : 4.000   Median : 1.000   Median : 1.000   Median : 1.00  \n",
              " Mean   : 4.442   Mean   : 3.151   Mean   : 3.215   Mean   : 2.83  \n",
              " 3rd Qu.: 6.000   3rd Qu.: 5.000   3rd Qu.: 5.000   3rd Qu.: 4.00  \n",
              " Max.   :10.000   Max.   :10.000   Max.   :10.000   Max.   :10.00  \n",
              "       V5               V6               V7               V8       \n",
              " Min.   : 1.000   Min.   : 1.000   Min.   : 1.000   Min.   : 1.00  \n",
              " 1st Qu.: 2.000   1st Qu.: 1.000   1st Qu.: 2.000   1st Qu.: 1.00  \n",
              " Median : 2.000   Median : 1.000   Median : 3.000   Median : 1.00  \n",
              " Mean   : 3.234   Mean   : 3.545   Mean   : 3.445   Mean   : 2.87  \n",
              " 3rd Qu.: 4.000   3rd Qu.: 6.000   3rd Qu.: 5.000   3rd Qu.: 4.00  \n",
              " Max.   :10.000   Max.   :10.000   Max.   :10.000   Max.   :10.00  \n",
              "       V9               class    \n",
              " Min.   : 1.000   benign   :444  \n",
              " 1st Qu.: 1.000   malignant:239  \n",
              " Median : 1.000                  \n",
              " Mean   : 1.603                  \n",
              " 3rd Qu.: 1.000                  \n",
              " Max.   :10.000                  "
            ]
          },
          "metadata": {
            "tags": []
          }
        }
      ]
    },
    {
      "cell_type": "code",
      "metadata": {
        "colab": {
          "base_uri": "https://localhost:8080/",
          "height": 54
        },
        "id": "sMLqvXT5CT2H",
        "outputId": "8dd45122-58fd-427f-834f-7eb54fadfe9e"
      },
      "source": [
        "# Loop de execuções\n",
        "\n",
        "acc = c(1:100)*0\n",
        "for (i in 1:100) {\n",
        "    L = sample(1:nrow(df_clean),round(nrow(df_clean)/3))\n",
        "    train <- df_clean[-L, 1:9] #1 a 9 é V1 - V9\n",
        "    test <- df_clean[L, 1:9] #1 a 9 é V1 - V9\n",
        "    cl <- factor(df_clean[-L, 10]) #décima coluna é CLASS -> variável de saída\n",
        "    fit = knn(train, test, cl, k=12)\n",
        "    c_matrix = table(fit[1:length(L)], factor(df_clean[L, 10]))\n",
        "    acc[i] = sum(diag(c_matrix)/sum(c_matrix)*100)\n",
        "}\n",
        "\n",
        "mean(acc)"
      ],
      "execution_count": null,
      "outputs": [
        {
          "output_type": "display_data",
          "data": {
            "text/plain": [
              "[1] 96.65789"
            ],
            "text/latex": "96.6578947368421",
            "text/markdown": "96.6578947368421",
            "text/html": [
              "96.6578947368421"
            ]
          },
          "metadata": {
            "tags": []
          }
        }
      ]
    },
    {
      "cell_type": "code",
      "metadata": {
        "colab": {
          "base_uri": "https://localhost:8080/",
          "height": 385
        },
        "id": "KAN9Ul2vJCdj",
        "outputId": "2cb12844-097f-4a88-93b2-0fe0e036ba7b"
      },
      "source": [
        "# Dataframe sem coluna V6\n",
        "df_clean2 <- df_clean\n",
        "df_clean2$V6 <- NULL\n",
        "\n",
        "summary(df_clean2)"
      ],
      "execution_count": null,
      "outputs": [
        {
          "output_type": "display_data",
          "data": {
            "text/plain": [
              "       V1               V2               V3               V4       \n",
              " Min.   : 1.000   Min.   : 1.000   Min.   : 1.000   Min.   : 1.00  \n",
              " 1st Qu.: 2.000   1st Qu.: 1.000   1st Qu.: 1.000   1st Qu.: 1.00  \n",
              " Median : 4.000   Median : 1.000   Median : 1.000   Median : 1.00  \n",
              " Mean   : 4.442   Mean   : 3.151   Mean   : 3.215   Mean   : 2.83  \n",
              " 3rd Qu.: 6.000   3rd Qu.: 5.000   3rd Qu.: 5.000   3rd Qu.: 4.00  \n",
              " Max.   :10.000   Max.   :10.000   Max.   :10.000   Max.   :10.00  \n",
              "       V5               V7               V8              V9        \n",
              " Min.   : 1.000   Min.   : 1.000   Min.   : 1.00   Min.   : 1.000  \n",
              " 1st Qu.: 2.000   1st Qu.: 2.000   1st Qu.: 1.00   1st Qu.: 1.000  \n",
              " Median : 2.000   Median : 3.000   Median : 1.00   Median : 1.000  \n",
              " Mean   : 3.234   Mean   : 3.445   Mean   : 2.87   Mean   : 1.603  \n",
              " 3rd Qu.: 4.000   3rd Qu.: 5.000   3rd Qu.: 4.00   3rd Qu.: 1.000  \n",
              " Max.   :10.000   Max.   :10.000   Max.   :10.00   Max.   :10.000  \n",
              "       class    \n",
              " benign   :444  \n",
              " malignant:239  \n",
              "                \n",
              "                \n",
              "                \n",
              "                "
            ]
          },
          "metadata": {
            "tags": []
          }
        }
      ]
    },
    {
      "cell_type": "code",
      "metadata": {
        "colab": {
          "base_uri": "https://localhost:8080/",
          "height": 54
        },
        "id": "ALtHIkLaJq0c",
        "outputId": "c7cd9099-d3a4-45f6-d6c1-c7b914c21735"
      },
      "source": [
        "# Loop de execuções com novo dataframe\n",
        "\n",
        "acc = c(1:100)*0\n",
        "for (i in 1:100) {\n",
        "    L = sample(1:nrow(df_clean),round(nrow(df_clean)/3))\n",
        "    train <- df_clean2[-L, 1:8] #1 a 9 é V1 - V9\n",
        "    test <- df_clean2[L, 1:8] #1 a 9 é V1 - V9\n",
        "    cl <- factor(df_clean2[-L, 9]) #décima coluna é CLASS -> variável de saída\n",
        "    fit = knn(train, test, cl, k=12)\n",
        "    c_matrix = table(fit[1:length(L)], factor(df_clean2[L, 9]))\n",
        "    acc[i] = sum(diag(c_matrix)/sum(c_matrix)*100)\n",
        "}\n",
        "\n",
        "mean(acc)"
      ],
      "execution_count": null,
      "outputs": [
        {
          "output_type": "display_data",
          "data": {
            "text/plain": [
              "[1] 96.01316"
            ],
            "text/latex": "96.0131578947368",
            "text/markdown": "96.0131578947368",
            "text/html": [
              "96.0131578947368"
            ]
          },
          "metadata": {
            "tags": []
          }
        }
      ]
    }
  ]
}